{
 "cells": [
  {
   "cell_type": "code",
   "execution_count": 3,
   "metadata": {},
   "outputs": [],
   "source": [
    "import pandas as pd\n",
    "import numpy as np\n",
    "from sklearn import tree\n",
    "\n",
    "train = pd.read_csv('Grupo36_v5.csv')\n",
    "y_train = train['resultado']\n",
    "x_train = train.drop(['resultado'], axis=1).values\n",
    "decision_tree = tree.DecisionTreeClassifier(max_depth = 20)\n",
    "decision_tree.fit(x_train, y_train)\n",
    "\n",
    "with open(\"g36_v5.dot\", 'w') as f:\n",
    "    f = tree.export_graphviz(decision_tree, out_file=f, max_depth = 20, impurity = True, feature_names = list(train.drop(['resultado'], axis=1)), class_names = ['MEDIA', 'BARATO', 'CARO'], rounded=True, filled=True)"
   ]
  },
  {
   "cell_type": "code",
   "execution_count": null,
   "metadata": {},
   "outputs": [],
   "source": []
  },
  {
   "cell_type": "code",
   "execution_count": null,
   "metadata": {},
   "outputs": [],
   "source": []
  }
 ],
 "metadata": {
  "kernelspec": {
   "display_name": "Python 3",
   "language": "python",
   "name": "python3"
  },
  "language_info": {
   "codemirror_mode": {
    "name": "ipython",
    "version": 3
   },
   "file_extension": ".py",
   "mimetype": "text/x-python",
   "name": "python",
   "nbconvert_exporter": "python",
   "pygments_lexer": "ipython3",
   "version": "3.8.3"
  }
 },
 "nbformat": 4,
 "nbformat_minor": 4
}
